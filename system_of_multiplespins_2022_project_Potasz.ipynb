{
 "cells": [
  {
   "cell_type": "code",
   "execution_count": 1,
   "metadata": {},
   "outputs": [],
   "source": [
    "# test notebook for calculations\n",
    "\n",
    "import numpy as np\n",
    "import scipy\n",
    "import matplotlib.pyplot as plt \n",
    "import matplotlib as mpl"
   ]
  },
  {
   "cell_type": "code",
   "execution_count": 19,
   "metadata": {},
   "outputs": [
    {
     "name": "stdout",
     "output_type": "stream",
     "text": [
      "-100.0\n",
      "[101. 104.   0. 103. 110.  92.]\n",
      "510.0\n"
     ]
    },
    {
     "data": {
      "text/plain": [
       "array([0.19803922, 0.20392157, 0.        , 0.20196078, 0.21568627,\n",
       "       0.18039216])"
      ]
     },
     "execution_count": 19,
     "metadata": {},
     "output_type": "execute_result"
    }
   ],
   "source": [
    "a = [1., 4., -100.,3. , 10. ,-8.]\n",
    "a = np.array(a)\n",
    "\n",
    "def normalization_of_energies(vector_of_numbers):\n",
    "    minimum = np.amin(vector_of_numbers)\n",
    "    print(minimum)\n",
    "    vector_of_numbers = vector_of_numbers + abs(minimum)\n",
    "    print(vector_of_numbers)\n",
    "    print(sum(vector_of_numbers))\n",
    "    return vector_of_numbers/sum(vector_of_numbers)\n",
    "    \n",
    "normalization_of_energies(a)"
   ]
  },
  {
   "cell_type": "code",
   "execution_count": 32,
   "metadata": {},
   "outputs": [
    {
     "name": "stdout",
     "output_type": "stream",
     "text": [
      "Len of Hamiltonian:  8\n",
      "[[ 0.5  0.   0.   0.   0.   0.   0.   0. ]\n",
      " [ 0.   0.   0.5  0.   0.   0.   0.   0. ]\n",
      " [ 0.   0.5 -0.5  0.   0.5  0.   0.   0. ]\n",
      " [ 0.   0.   0.   0.   0.   0.5  0.   0. ]\n",
      " [ 0.   0.   0.5  0.   0.   0.   0.   0. ]\n",
      " [ 0.   0.   0.   0.5  0.  -0.5  0.5  0. ]\n",
      " [ 0.   0.   0.   0.   0.   0.5  0.   0. ]\n",
      " [ 0.   0.   0.   0.   0.   0.   0.   0.5]]\n",
      "[-1.00000000e+00 -1.00000000e+00  2.04503993e-19  2.04503993e-19\n",
      "  5.00000000e-01  5.00000000e-01  5.00000000e-01  5.00000000e-01]\n",
      "[-0.  0.  0. -0.  0.  0.  1.  0.]\n",
      "[-0.5, 0.16666666666666666, 0.16666666666666674, 0.16666666666666666, 0.16666666666666666, 0.16666666666666674, 0.16666666666666666, -0.5]\n",
      "1.1102230246251565e-16\n"
     ]
    }
   ],
   "source": [
    "#S_z component calculations \n",
    "\n",
    "from functools import reduce\n",
    "from itertools import repeat, chain\n",
    "\n",
    "\n",
    "def S_site(index, N, I, S):\n",
    "    if index == 0: \n",
    "        chain_I = chain([S], repeat(I, N))\n",
    "    elif index == N:\n",
    "        chain_I = chain(repeat(I, N),[S])\n",
    "    else:\n",
    "        chain_I = chain(repeat(I, index), [S], repeat(I, N - index))\n",
    "    return reduce(np.kron, chain_I)\n",
    "\n",
    "def calc_Sz(psi):\n",
    "    # Define the spin operator\n",
    "    S_z = np.array([[1/2, 0], [0, -1/2]])\n",
    "    \n",
    "    I = np.array([[1,0],\n",
    "                [0,1]])\n",
    "\n",
    "    S_z = np.kron(np.kron(S_z,I),I)\n",
    "\n",
    "    # Calculate the conjugate transpose of the wavefunction\n",
    "    psi_dagger = np.conj(psi.T)\n",
    "    # Calculate the expectation value of S_z\n",
    "    Sz = np.dot(psi_dagger, np.dot(S_z, psi))\n",
    "    return Sz\n",
    "\n",
    "\n",
    "S_z = 1/2* np.array([[1,0],\n",
    "                    [0,-1]])\n",
    "\n",
    "S_plus = np.array([[0,1],\n",
    "                    [0,0]])\n",
    "\n",
    "S_minus = np.array([[0,0],\n",
    "                    [1,0]])\n",
    "\n",
    "I = np.array([[1,0],\n",
    "                [0,1]])\n",
    "\n",
    "\n",
    "N = 2\n",
    "H = 0\n",
    "for index in range(N):\n",
    "    H += 1/2 * (np.dot(S_site(index, N, I, S_plus),S_site(index+1, N, I, S_minus)) \\\n",
    "        + np.dot(S_site(index, N, I, S_minus),S_site(index+1, N, I, S_plus))) + np.dot(S_site(index, N, I, S_z),S_site(index+1, N, I, S_z))\n",
    "\n",
    "energies, vectors = np.linalg.eigh(H)\n",
    "print(\"Len of Hamiltonian: \", len(H))\n",
    "print(H)\n",
    "\n",
    "print(energies)\n",
    "print(vectors[0])\n",
    "\n",
    "#vector 1 S_z: \n",
    "sum_s_z = []\n",
    "for i in range(len(vectors)):\n",
    "    sum_s_z.append(calc_Sz(vectors[i]))\n",
    "print(sum_s_z)\n",
    "print(sum(sum_s_z))"
   ]
  },
  {
   "cell_type": "code",
   "execution_count": 37,
   "metadata": {},
   "outputs": [
    {
     "name": "stdout",
     "output_type": "stream",
     "text": [
      "[[ 0.5  0.   0.   0.   0.   0.   0.   0. ]\n",
      " [ 0.   0.5  0.   0.   0.   0.   0.   0. ]\n",
      " [ 0.   0.   0.5  0.   0.   0.   0.   0. ]\n",
      " [ 0.   0.   0.   0.5  0.   0.   0.   0. ]\n",
      " [ 0.   0.   0.   0.  -0.5 -0.  -0.  -0. ]\n",
      " [ 0.   0.   0.   0.  -0.  -0.5 -0.  -0. ]\n",
      " [ 0.   0.   0.   0.  -0.  -0.  -0.5 -0. ]\n",
      " [ 0.   0.   0.   0.  -0.  -0.  -0.  -0.5]]\n"
     ]
    }
   ],
   "source": [
    "S_z_operator = chain([S_z], repeat(np.identity(2), 2))\n",
    "print(reduce(np.kron,S_z_operator))"
   ]
  },
  {
   "cell_type": "code",
   "execution_count": 19,
   "metadata": {},
   "outputs": [
    {
     "name": "stdout",
     "output_type": "stream",
     "text": [
      "Expectation value of S_z: 0.0\n"
     ]
    }
   ],
   "source": [
    "import numpy as np\n",
    "\n",
    "def calc_Sz(psi):\n",
    "    # Define the spin operator\n",
    "    S_z = np.array([[1/2, 0], [0, -1/2]])\n",
    "    # Reshape the wavefunction into a 2x2 matrix\n",
    "    psi = psi.reshape(2, 2)\n",
    "    # Calculate the conjugate transpose of the wavefunction\n",
    "    psi_dagger = np.conj(psi.T)\n",
    "    # Calculate the expectation value of S_z\n",
    "    Sz = np.dot(psi_dagger, np.dot(S_z, psi))\n",
    "    return Sz[0,0].real\n",
    "\n",
    "psi = np.array([0, 1, 0, 0])\n",
    "Sz = calc_Sz(psi)\n",
    "print(\"Expectation value of S_z:\", Sz)"
   ]
  },
  {
   "cell_type": "code",
   "execution_count": 2,
   "metadata": {},
   "outputs": [
    {
     "data": {
      "text/plain": [
       "array([[0.+0.j, 0.+0.j],\n",
       "       [0.+0.j, 0.+0.j]])"
      ]
     },
     "execution_count": 2,
     "metadata": {},
     "output_type": "execute_result"
    }
   ],
   "source": [
    "np.zeros((2,2),dtype = complex)"
   ]
  },
  {
   "cell_type": "code",
   "execution_count": 5,
   "metadata": {},
   "outputs": [],
   "source": [
    "def plot_bands(energies, title, figsize, s, ticks):\n",
    "    x = list(range(len(energies)))\n",
    "    fig, ax = plt.subplots(figsize=figsize)\n",
    "    ax.scatter(x, energies, c = 'black', s=s, marker=\"_\", linewidth=2, zorder=3)\n",
    "    tick_spacing = 1\n",
    "    if ticks == False: \n",
    "        ax.set_xticks([])\n",
    "    else:\n",
    "        ax.xaxis.set_major_locator(mpl.ticker.MultipleLocator(tick_spacing))\n",
    "    ax.grid(axis='y')\n",
    "    ax.margins(0.1)\n",
    "    ax.set_xlabel('index')\n",
    "    ax.set_ylabel('E')\n",
    "    ax.set_title(title)\n"
   ]
  },
  {
   "cell_type": "code",
   "execution_count": 6,
   "metadata": {},
   "outputs": [
    {
     "data": {
      "text/plain": [
       "array([], shape=(0, 0), dtype=float64)"
      ]
     },
     "execution_count": 6,
     "metadata": {},
     "output_type": "execute_result"
    }
   ],
   "source": [
    "np.kron(np.identity(0),np.array([[1,0],[0,1]]))"
   ]
  },
  {
   "cell_type": "code",
   "execution_count": 7,
   "metadata": {},
   "outputs": [],
   "source": [
    "from functools import reduce\n",
    "from itertools import repeat, chain\n",
    "\n",
    "\n",
    "def S_site(index, N, I, S):\n",
    "    if index == 0: \n",
    "        chain_I = chain([S], repeat(I, N))\n",
    "    elif index == N:\n",
    "        chain_I = chain(repeat(I, N),[S])\n",
    "    else:\n",
    "        chain_I = chain(repeat(I, index), [S], repeat(I, N - index))\n",
    "    return reduce(np.kron, chain_I)"
   ]
  },
  {
   "cell_type": "code",
   "execution_count": 22,
   "metadata": {},
   "outputs": [],
   "source": [
    "#test workin! \n",
    "\n",
    "#4 spiny:\n",
    "\n",
    "# S_plus * I * I * I \n",
    "# I * S_plus * I * I\n",
    "# I * I * S_plus * I\n",
    "# I * I * I * S_plus\n",
    "'''\n",
    "S_plus = np.array([[0,1],\n",
    "                    [0,0]])\n",
    "S_minus = np.array([[0,0],                \n",
    "                    [1,0]])\n",
    "S_z = 1/2 * np.array([[1,0],\n",
    "                    [0,-1]])\n",
    "I = np.array([[1,0],\n",
    "            [0,1]])\n",
    "''';\n",
    "S_plus = np.sqrt(2) * np.array([[0,1,0],\n",
    "                                [0,0,1],\n",
    "                                [0,0,0]])\n",
    "\n",
    "S_minus = np.sqrt(2) * np.array([[0,0,0],\n",
    "                                [1,0,0],\n",
    "                                [0,1,0]])\n",
    "S_z = np.array([[1,0,0],\n",
    "                [0,0,0],\n",
    "                [0,0,-1]])\n",
    "\n",
    "I = np.array([[1,0,0],\n",
    "                [0,1,0],\n",
    "                [0,0,1]])\n",
    "\n",
    "N = 1\n",
    "H = 0\n",
    "for index in range(N):\n",
    "    H += 1/2 * (np.dot(S_site(index, N, I, S_plus),S_site(index+1, N, I, S_minus)) \\\n",
    "        + np.dot(S_site(index, N, I, S_minus),S_site(index+1, N, I, S_plus))) + np.dot(S_site(index, N, I, S_z),S_site(index+1, N, I, S_z))\n",
    "\n",
    "energies, vectors = np.linalg.eigh(H)\n"
   ]
  },
  {
   "cell_type": "code",
   "execution_count": 6,
   "metadata": {},
   "outputs": [
    {
     "name": "stdout",
     "output_type": "stream",
     "text": [
      "[-3.00000000e+00 -3.00000000e+00 -3.00000000e+00 -2.00000000e+00\n",
      " -1.00000000e+00 -1.00000000e+00 -1.00000000e+00 -1.00000000e+00\n",
      " -1.00000000e+00 -1.00000000e+00 -1.00000000e+00 -1.00000000e+00\n",
      " -6.62210246e-16  1.07085001e-16  1.35841063e-15]\n"
     ]
    },
    {
     "data": {
      "image/png": "[encoded data removed]",
      "text/plain": [
       "<Figure size 1080x720 with 1 Axes>"
      ]
     },
     "metadata": {
      "needs_background": "light"
     },
     "output_type": "display_data"
    }
   ],
   "source": [
    "plot_bands(energies, title = \"s=1, 7 sites, open\", figsize=(15,10),s=50, ticks = False);\n",
    "plt.axis([-2, 15, -10, -6]);\n",
    "print(energies[0:15])"
   ]
  },
  {
   "cell_type": "code",
   "execution_count": 36,
   "metadata": {},
   "outputs": [],
   "source": [
    "#check how about different implementation:\n",
    "from functools import reduce\n",
    "from itertools import repeat, chain\n",
    "\n",
    "\n",
    "def S_site(index, N, S):\n",
    "    size = len(S)\n",
    "    if index == 0: \n",
    "        chain_I = chain([S], [np.identity(size**N)])\n",
    "    elif index == N:\n",
    "        chain_I = chain([np.identity(size**N)],[S])\n",
    "    else:\n",
    "        chain_I = chain([np.identity(size**index)], [S], [np.identity(size**(N - index))])\n",
    "    return reduce(np.kron, chain_I)\n",
    "\n",
    "S_plus = np.sqrt(2) * np.array([[0,1,0],\n",
    "                                [0,0,1],\n",
    "                                [0,0,0]])\n",
    "\n",
    "S_minus = np.sqrt(2) * np.array([[0,0,0],\n",
    "                                [1,0,0],\n",
    "                                [0,1,0]])\n",
    "S_z = np.array([[1,0,0],\n",
    "                [0,0,0],\n",
    "                [0,0,-1]])\n",
    "\n",
    "\n",
    "N = 8\n",
    "H = 0\n",
    "for index in range(N):\n",
    "    H += 1/2 * (np.dot(S_site(index, N, S_plus),S_site(index+1, N, S_minus)) \\\n",
    "        + np.dot(S_site(index, N, S_minus),S_site(index+1, N, S_plus))) + np.dot(S_site(index, N, S_z),S_site(index+1, N, S_z))\n",
    "\n",
    "energies, vectors = np.linalg.eigh(H)"
   ]
  },
  {
   "cell_type": "code",
   "execution_count": 35,
   "metadata": {},
   "outputs": [
    {
     "data": {
      "text/plain": [
       "(-2.0, 15.0, -10.5, -8.5)"
      ]
     },
     "execution_count": 35,
     "metadata": {},
     "output_type": "execute_result"
    },
    {
     "data": {
      "image/png": "[encoded data removed]",
      "text/plain": [
       "<Figure size 1152x1008 with 1 Axes>"
      ]
     },
     "metadata": {
      "needs_background": "light"
     },
     "output_type": "display_data"
    }
   ],
   "source": [
    "plot_bands(energies, title = \"s=1, \" + str(N+1) +\" sites, open\", figsize=(16,14),s=50, ticks = False)\n",
    "#plt.axis([-2, 15, -10.5, -8.5])"
   ]
  },
  {
   "cell_type": "code",
   "execution_count": 50,
   "metadata": {},
   "outputs": [
    {
     "name": "stdout",
     "output_type": "stream",
     "text": [
      "[-2. -1. -1. -1.  1.  1.  1.  1.  1.]\n",
      "[-3.00000000e+00 -3.00000000e+00 -3.00000000e+00 -2.00000000e+00\n",
      " -1.00000000e+00 -1.00000000e+00 -1.00000000e+00 -1.00000000e+00\n",
      " -1.00000000e+00 -1.00000000e+00 -1.00000000e+00 -1.00000000e+00\n",
      " -6.62210246e-16  1.07085001e-16  1.35841063e-15  1.00000000e+00\n",
      "  1.00000000e+00  1.00000000e+00  1.00000000e+00  1.00000000e+00\n",
      "  2.00000000e+00  2.00000000e+00  2.00000000e+00  2.00000000e+00\n",
      "  2.00000000e+00  2.00000000e+00  2.00000000e+00]\n"
     ]
    },
    {
     "data": {
      "image/png": "[encoded data removed]",
      "text/plain": [
       "<Figure size 1080x720 with 1 Axes>"
      ]
     },
     "metadata": {
      "needs_background": "light"
     },
     "output_type": "display_data"
    }
   ],
   "source": [
    "print(energies)\n",
    "print(energies2)\n",
    "\n",
    "plot_bands(energies, title = \"s=1, 9 sites, open\", figsize=(15,10),s=50, ticks = False)"
   ]
  },
  {
   "cell_type": "markdown",
   "metadata": {},
   "source": [
    "### First step \n",
    "\n",
    "Heisenberg model for two spins (two sites) - single and 1/2 spin basis"
   ]
  },
  {
   "cell_type": "code",
   "execution_count": 4,
   "metadata": {},
   "outputs": [
    {
     "name": "stdout",
     "output_type": "stream",
     "text": [
      "[-2.46519033e-32+0.j -1.00000000e+00+0.j  0.00000000e+00+0.j\n",
      "  0.00000000e+00+0.j]\n"
     ]
    }
   ],
   "source": [
    "#two sites for spin 1/2 from tutorial: \n",
    "S_x = np.array([[0,1],\n",
    "                [1,0]])\n",
    "S_y = np.array([[0,-1j],\n",
    "                [1j,0]])\n",
    "S_z = np.array([[1,0],\n",
    "                [0,-1]])\n",
    "I = np.array([[1,0],\n",
    "                [0,1]])\n",
    "\n",
    "H = 1/4 * (np.kron(S_x,S_x)+ (np.kron(S_y,S_y)) + (np.kron(S_z,S_z))-np.kron(I,I))\n",
    "\n",
    "H\n",
    "energies, vectors = np.linalg.eig(H)\n",
    "print(energies)"
   ]
  },
  {
   "cell_type": "code",
   "execution_count": 91,
   "metadata": {},
   "outputs": [
    {
     "name": "stdout",
     "output_type": "stream",
     "text": [
      "[-0.75  0.25  0.25  0.25]\n",
      "[-1.5  0.5  0.5  0.5]\n"
     ]
    }
   ],
   "source": [
    "S_plus = np.array([[0,1],\n",
    "                [0,0]])\n",
    "S_minus = np.array([[0,0],                \n",
    "                    [1,0]])\n",
    "S_z = 1/2*np.array([[1,0],\n",
    "                [0,-1]])\n",
    "\n",
    "H = 1/2 * (np.kron(S_plus,S_minus)+ (np.kron(S_minus,S_plus))) + (np.kron(S_z,S_z))\n",
    "energies, vectors = np.linalg.eigh(H)\n",
    "print(energies)\n",
    "#plot_bands(np.sort(energies),'2 sites, open, s = 1/2')\n",
    "#plot_bands(energies,'2 sites, open, s = 1/2')\n",
    "\n",
    "H_c = (np.kron(S_plus,S_minus)+ (np.kron(S_minus,S_plus))) + 2 * (np.kron(S_z,S_z)) #+ 1/2*(np.dot(np.kron(I,S_plus),(np.kron(S_minus,I))) + np.dot(np.kron(I,S_minus),(np.kron(S_plus,I))))+ (np.kron(S_z,S_z))\n",
    "energies_c, vectors_c = np.linalg.eigh(H_c)\n",
    "print(energies_c)\n",
    "#plot_bands(energies_c,'2 sites, closed, s = 1/2')\n",
    "\n",
    "'''\n",
    "x = [1] * len(energies)\n",
    "fig, ax = plt.subplots(figsize=(6, 8))\n",
    "ax.set_xticks([])\n",
    "ax.yaxis.set_minor_locator(mpl.ticker.MaxNLocator(50))\n",
    "ax.scatter(x, energies, c = 'black', s=90000, marker=\"_\", linewidth=2, zorder=3)\n",
    "ax.grid(axis='y')\n",
    "ax.margins(0.1)\n",
    "ax.set_ylabel('E')\n",
    "ax.set_title('2 sites s = 1/2')\n",
    "''';\n",
    "\n",
    "#scipy.eigsh ? - do macierzy rzadkich (sparse matrix)\n",
    "##### tworzenie operatorów na danym węźle \n",
    "\n",
    "#### macierz csr3 "
   ]
  },
  {
   "cell_type": "code",
   "execution_count": 33,
   "metadata": {},
   "outputs": [
    {
     "name": "stdout",
     "output_type": "stream",
     "text": [
      "[[ 0.25  0.    0.    0.  ]\n",
      " [ 0.   -0.25  0.5   0.  ]\n",
      " [ 0.    0.5  -0.25  0.  ]\n",
      " [ 0.    0.    0.    0.25]]\n"
     ]
    }
   ],
   "source": [
    "print(H)"
   ]
  },
  {
   "cell_type": "code",
   "execution_count": 93,
   "metadata": {},
   "outputs": [
    {
     "name": "stdout",
     "output_type": "stream",
     "text": [
      "0.25\n",
      "[0. 0. 0. 1.]\n"
     ]
    }
   ],
   "source": [
    "print(energies[3])\n",
    "print(vectors[:,3])"
   ]
  },
  {
   "cell_type": "code",
   "execution_count": 36,
   "metadata": {},
   "outputs": [
    {
     "data": {
      "text/plain": [
       "0.7071067811865476"
      ]
     },
     "execution_count": 36,
     "metadata": {},
     "output_type": "execute_result"
    }
   ],
   "source": [
    "np.sqrt(2)/2"
   ]
  },
  {
   "cell_type": "code",
   "execution_count": 8,
   "metadata": {},
   "outputs": [],
   "source": [
    "S_plus = np.sqrt(2) * np.array([[0,1,0],\n",
    "                                [0,0,1],\n",
    "                                [0,0,0]])\n",
    "\n",
    "S_minus = np.sqrt(2) * np.array([[0,0,0],\n",
    "                                [1,0,0],\n",
    "                                [0,1,0]])\n",
    "S_z = np.array([[1,0,0],\n",
    "                [0,0,0],\n",
    "                [0,0,-1]])\n",
    "\n",
    "I = np.array([[1,0,0],\n",
    "                [0,1,0],\n",
    "                [0,0,1]])"
   ]
  },
  {
   "cell_type": "code",
   "execution_count": 45,
   "metadata": {},
   "outputs": [
    {
     "data": {
      "text/plain": [
       "array([[0.        , 1.41421356, 0.        ],\n",
       "       [0.        , 0.        , 1.41421356],\n",
       "       [0.        , 0.        , 0.        ]])"
      ]
     },
     "execution_count": 45,
     "metadata": {},
     "output_type": "execute_result"
    }
   ],
   "source": [
    "S_plus"
   ]
  },
  {
   "cell_type": "code",
   "execution_count": 46,
   "metadata": {},
   "outputs": [
    {
     "data": {
      "text/plain": [
       "array([[0.        , 0.        , 0.        ],\n",
       "       [1.41421356, 0.        , 0.        ],\n",
       "       [0.        , 1.41421356, 0.        ]])"
      ]
     },
     "execution_count": 46,
     "metadata": {},
     "output_type": "execute_result"
    }
   ],
   "source": [
    "S_minus"
   ]
  },
  {
   "cell_type": "code",
   "execution_count": 55,
   "metadata": {},
   "outputs": [
    {
     "data": {
      "text/plain": [
       "array([[ 1,  0,  0],\n",
       "       [ 0,  0,  0],\n",
       "       [ 0,  0, -1]])"
      ]
     },
     "execution_count": 55,
     "metadata": {},
     "output_type": "execute_result"
    }
   ],
   "source": [
    "S_z"
   ]
  },
  {
   "cell_type": "code",
   "execution_count": 48,
   "metadata": {},
   "outputs": [],
   "source": [
    "#tensor product \n",
    "#one option: \n",
    "np.kron(S_plus,S_minus)\n",
    "\n",
    "#second from Silvano tutorial: \n",
    "matrix_b = S_minus\n",
    "matrix_a = S_plus\n",
    "\n",
    "final_matrix = [[num_a * num_b for num_a in element_a for num_b in matrix_b[row]] for element_a in matrix_a for row in range(len(matrix_b))]\n"
   ]
  },
  {
   "cell_type": "code",
   "execution_count": 11,
   "metadata": {},
   "outputs": [
    {
     "name": "stdout",
     "output_type": "stream",
     "text": [
      "[-2. -1. -1. -1.  1.  1.  1.  1.  1.]\n",
      "[-4. -2. -2. -2.  2.  2.  2.  2.  2.]\n"
     ]
    },
    {
     "data": {
      "image/png": "[encoded data removed]",
      "text/plain": [
       "<Figure size 432x576 with 1 Axes>"
      ]
     },
     "metadata": {
      "needs_background": "light"
     },
     "output_type": "display_data"
    },
    {
     "data": {
      "image/png": "[encoded data removed]",
      "text/plain": [
       "<Figure size 432x576 with 1 Axes>"
      ]
     },
     "metadata": {
      "needs_background": "light"
     },
     "output_type": "display_data"
    }
   ],
   "source": [
    "#HEISENBERG HAMILTONIAN TWO SITES, spin = 1 \n",
    "\n",
    "S_plus = np.sqrt(2) * np.array([[0,1,0],\n",
    "                                [0,0,1],\n",
    "                                [0,0,0]])\n",
    "\n",
    "S_minus = np.sqrt(2) * np.array([[0,0,0],\n",
    "                                [1,0,0],\n",
    "                                [0,1,0]])\n",
    "S_z = np.array([[1,0,0],\n",
    "                [0,0,0],\n",
    "                [0,0,-1]])\n",
    "\n",
    "I = np.array([[1,0,0],\n",
    "                [0,1,0],\n",
    "                [0,0,1]])\n",
    "\n",
    "#first term\n",
    "S_st = np.kron(S_plus,S_minus)\n",
    "#second term\n",
    "S_nd = np.kron(S_minus,S_plus)\n",
    "#z term\n",
    "S_z =  np.kron(S_z,S_z)\n",
    "\n",
    "#print(S_st.shape,S_nd.shape,S_z.shape)\n",
    "\n",
    "#Hamiltonian: \n",
    "H = 1/2 * (S_st + S_nd) + S_z\n",
    "#print(H)\n",
    "\n",
    "energies, vectors = np.linalg.eigh(H)\n",
    "print(energies)\n",
    "\n",
    "plot_bands(np.sort(energies),'2 sites, open, s = 1',figsize=(6,8),s=100, ticks = False)\n",
    "\n",
    "#Hamiltonian: \n",
    "H_c = (S_st + S_nd) + 2*S_z\n",
    "#print(H)\n",
    "\n",
    "energies_c, vectors_c = np.linalg.eigh(H_c)\n",
    "print(energies_c)\n",
    "\n",
    "plot_bands(np.sort(energies_c),'2 sites, closed, s = 1',figsize=(6,8),s=100, ticks = False)"
   ]
  },
  {
   "cell_type": "code",
   "execution_count": 29,
   "metadata": {},
   "outputs": [
    {
     "name": "stdout",
     "output_type": "stream",
     "text": [
      "[[ 1.  0.  0.  0.  0.  0.  0.  0.  0.]\n",
      " [ 0.  0.  0.  1.  0.  0.  0.  0.  0.]\n",
      " [ 0.  0. -1.  0.  1.  0.  0.  0.  0.]\n",
      " [ 0.  1.  0.  0.  0.  0.  0.  0.  0.]\n",
      " [ 0.  0.  1.  0.  0.  0.  1.  0.  0.]\n",
      " [ 0.  0.  0.  0.  0.  0.  0.  1.  0.]\n",
      " [ 0.  0.  0.  0.  1.  0. -1.  0.  0.]\n",
      " [ 0.  0.  0.  0.  0.  1.  0.  0.  0.]\n",
      " [ 0.  0.  0.  0.  0.  0.  0.  0.  1.]]\n"
     ]
    }
   ],
   "source": [
    "print(H)"
   ]
  },
  {
   "cell_type": "code",
   "execution_count": 45,
   "metadata": {},
   "outputs": [
    {
     "name": "stdout",
     "output_type": "stream",
     "text": [
      "[-2. -1. -1. -1.  1.  1.  1.  1.  1.]\n"
     ]
    }
   ],
   "source": [
    "print(energies)"
   ]
  },
  {
   "cell_type": "code",
   "execution_count": 63,
   "metadata": {},
   "outputs": [
    {
     "name": "stdout",
     "output_type": "stream",
     "text": [
      "1.0000000000000007\n",
      "[ 0.          0.         -0.40824829  0.         -0.81649658  0.\n",
      " -0.40824829  0.          0.        ]\n"
     ]
    }
   ],
   "source": [
    "print(energies[8])\n",
    "print(vectors[:,8])"
   ]
  },
  {
   "cell_type": "code",
   "execution_count": 61,
   "metadata": {},
   "outputs": [
    {
     "name": "stdout",
     "output_type": "stream",
     "text": [
      "0.5773502691896258\n",
      "0.7071067811865475\n",
      "0.4082482904638631\n",
      "0.8164965809277261\n"
     ]
    }
   ],
   "source": [
    "print(1/np.sqrt(3))\n",
    "print(1/np.sqrt(2))\n",
    "print(1/np.sqrt(6))\n",
    "print(2/np.sqrt(6))"
   ]
  },
  {
   "cell_type": "code",
   "execution_count": 106,
   "metadata": {},
   "outputs": [
    {
     "data": {
      "text/plain": [
       "Text(0.5, 1.0, '2 sites s = 1')"
      ]
     },
     "execution_count": 106,
     "metadata": {},
     "output_type": "execute_result"
    },
    {
     "data": {
      "image/png": "[encoded data removed]",
      "text/plain": [
       "<Figure size 432x576 with 1 Axes>"
      ]
     },
     "metadata": {
      "needs_background": "light"
     },
     "output_type": "display_data"
    }
   ],
   "source": [
    "x = [1] * len(energies)\n",
    "\n",
    "fig, ax = plt.subplots(figsize=(6, 8))\n",
    "ax.set_xticks([])\n",
    "ax.yaxis.set_minor_locator(mpl.ticker.MaxNLocator(50))\n",
    "ax.scatter(x, energies, c = 'black', s=90000, marker=\"_\", linewidth=2, zorder=3)\n",
    "ax.grid(axis='y')\n",
    "ax.margins(0.1)\n",
    "ax.set_ylabel('E')\n",
    "ax.set_title('2 sites s = 1')\n",
    "\n"
   ]
  },
  {
   "cell_type": "code",
   "execution_count": 90,
   "metadata": {},
   "outputs": [
    {
     "data": {
      "image/png": "[encoded data removed]",
      "text/plain": [
       "<Figure size 720x576 with 1 Axes>"
      ]
     },
     "metadata": {
      "needs_background": "light"
     },
     "output_type": "display_data"
    }
   ],
   "source": [
    "#HEISENBERG HAMILTONIAN 3 SITES, spin = 1 \n",
    "\n",
    "from numpy import kron, dot\n",
    "\n",
    "S_plus = np.sqrt(2) * np.array([[0,1,0],\n",
    "                                [0,0,1],\n",
    "                                [0,0,0]])\n",
    "\n",
    "S_minus = np.sqrt(2) * np.array([[0,0,0],\n",
    "                                [1,0,0],\n",
    "                                [0,1,0]])\n",
    "S_z = np.array([[1,0,0],\n",
    "                [0,0,0],\n",
    "                [0,0,-1]])\n",
    "\n",
    "I = np.array([[1,0,0],\n",
    "                [0,1,0],\n",
    "                [0,0,1]])\n",
    "\n",
    "\n",
    "S1_plus = kron(kron(S_plus,I),I)\n",
    "S1_minus = kron(kron(S_minus,I),I)\n",
    "S1_z = kron(kron(S_z,I),I)\n",
    "\n",
    "S2_plus = kron(kron(I,S_plus),I)\n",
    "S2_minus = kron(kron(I,S_minus),I)\n",
    "S2_z = kron(kron(I,S_z),I)\n",
    "\n",
    "S3_plus = kron(kron(I,I),S_plus)\n",
    "S3_minus = kron(kron(I,I),S_minus)\n",
    "S3_z = kron(kron(I,I),S_z)\n",
    "'''\n",
    "H = 0.5*(dot(S1_plus,S2_minus)+dot(S1_minus,S2_plus)+dot(S2_plus,S3_minus)+dot(S2_minus,S3_plus)\\\n",
    "    +dot(S3_plus,S1_minus)+dot(S3_minus,S1_plus)) + dot(S1_z,S2_z) + dot(S2_z,S3_z) + dot(S3_z,S1_z)\n",
    "\n",
    "energies, vectors = np.linalg.eig(H)\n",
    "print(np.sort(energies))\n",
    "plot_bands(np.sort(energies),'3 spins, closed, s = 1')\n",
    "''';\n",
    "\n",
    "H_o = 0.5*(dot(S1_plus,S2_minus)+dot(S1_minus,S2_plus)+dot(S2_plus,S3_minus)+dot(S2_minus,S3_plus)) + dot(S1_z,S2_z) + dot(S2_z,S3_z)\n",
    "\n",
    "energies_o, vectors_o = np.linalg.eigh(H_o)\n",
    "plot_bands(energies_o,'3 spins, open, s = 1', figsize = (10,8), s = 200)\n",
    "\n",
    "\"\"\"x = [1] * len(energies)\n",
    "\n",
    "fig, ax = plt.subplots(figsize=(6, 8))\n",
    "ax.set_xticks([])\n",
    "ax.yaxis.set_minor_locator(mpl.ticker.MaxNLocator(50))\n",
    "ax.scatter(x, energies, c = 'black', s=90000, marker=\"_\", linewidth=2, zorder=3)\n",
    "ax.grid(axis='y')\n",
    "ax.margins(0.1)\n",
    "ax.set_ylabel('E')\n",
    "ax.set_title('3 sites s = 1')\"\"\";"
   ]
  },
  {
   "cell_type": "code",
   "execution_count": 83,
   "metadata": {},
   "outputs": [
    {
     "name": "stdout",
     "output_type": "stream",
     "text": [
      "[-3.00000000e+00 -3.00000000e+00 -3.00000000e+00 -2.00000000e+00\n",
      " -1.00000000e+00 -1.00000000e+00 -1.00000000e+00 -1.00000000e+00\n",
      " -1.00000000e+00 -1.00000000e+00 -1.00000000e+00 -1.00000000e+00\n",
      " -6.62210246e-16  1.07085001e-16  1.35841063e-15  1.00000000e+00\n",
      "  1.00000000e+00  1.00000000e+00  1.00000000e+00  1.00000000e+00\n",
      "  2.00000000e+00  2.00000000e+00  2.00000000e+00  2.00000000e+00\n",
      "  2.00000000e+00  2.00000000e+00  2.00000000e+00]\n"
     ]
    }
   ],
   "source": [
    "print(energies_o)"
   ]
  },
  {
   "cell_type": "code",
   "execution_count": 86,
   "metadata": {},
   "outputs": [
    {
     "name": "stdout",
     "output_type": "stream",
     "text": [
      "(27, 27)\n"
     ]
    }
   ],
   "source": [
    "print(H_o.shape)"
   ]
  },
  {
   "cell_type": "code",
   "execution_count": 75,
   "metadata": {},
   "outputs": [
    {
     "name": "stdout",
     "output_type": "stream",
     "text": [
      "[0, 1, 2, 3, 4, 5, 6, 7, 8, 9, 10, 11, 12, 13, 14, 15, 16, 17, 18, 19, 20, 21, 22, 23, 24, 25, 26]\n"
     ]
    }
   ],
   "source": [
    "x = list(range(len(energies_o)))\n",
    "print(x)"
   ]
  },
  {
   "cell_type": "code",
   "execution_count": 120,
   "metadata": {},
   "outputs": [
    {
     "data": {
      "text/plain": [
       "(-2.0, 2.0)"
      ]
     },
     "execution_count": 120,
     "metadata": {},
     "output_type": "execute_result"
    },
    {
     "data": {
      "image/png": "[encoded data removed]",
      "text/plain": [
       "<Figure size 432x576 with 1 Axes>"
      ]
     },
     "metadata": {
      "needs_background": "light"
     },
     "output_type": "display_data"
    },
    {
     "data": {
      "image/png": "[encoded data removed]",
      "text/plain": [
       "<Figure size 432x576 with 1 Axes>"
      ]
     },
     "metadata": {
      "needs_background": "light"
     },
     "output_type": "display_data"
    }
   ],
   "source": [
    "#HEISENBERG HAMILTONIAN FOUR SITES spin = 1\n",
    "\n",
    "from numpy import kron, dot\n",
    "\n",
    "S_plus = np.sqrt(2) * np.array([[0,1,0],\n",
    "                                [0,0,1],\n",
    "                                [0,0,0]])\n",
    "\n",
    "S_minus = np.sqrt(2) * np.array([[0,0,0],\n",
    "                                [1,0,0],\n",
    "                                [0,1,0]])\n",
    "S_z = np.array([[1,0,0],\n",
    "                [0,0,0],\n",
    "                [0,0,-1]])\n",
    "\n",
    "I = np.array([[1,0,0],\n",
    "                [0,1,0],\n",
    "                [0,0,1]])\n",
    "\n",
    "S1_plus = kron(kron(kron(S_plus,I),I),I)\n",
    "S1_minus = kron(kron(kron(S_minus,I),I),I)\n",
    "S1_z = kron(kron(kron(S_z,I),I),I)\n",
    "\n",
    "S2_plus = kron(kron(kron(I,S_plus),I),I)\n",
    "S2_minus = kron(kron(kron(I,S_minus),I),I)\n",
    "S2_z = kron(kron(kron(I,S_z),I),I)\n",
    "\n",
    "S3_plus = kron(kron(kron(I,I),S_plus),I)\n",
    "S3_minus = kron(kron(kron(I,I),S_minus),I)\n",
    "S3_z = kron(kron(kron(I,I),S_z),I)\n",
    "\n",
    "S4_plus = kron(kron(kron(I,I),I),S_plus)\n",
    "S4_minus = kron(kron(kron(I,I),I),S_minus)\n",
    "S4_z = kron(kron(kron(I,I),I),S_z)\n",
    "\n",
    "H = 0.5*(dot(S1_plus,S2_minus)+dot(S1_minus,S2_plus)+dot(S2_plus,S3_minus)+dot(S2_minus,S3_plus)\\\n",
    "    +dot(S3_plus,S4_minus)+dot(S3_minus,S4_plus)+dot(S4_plus,S1_minus)+dot(S4_minus,S1_plus)) + dot(S1_z,S2_z) + dot(S2_z,S3_z) + dot(S3_z,S4_z) + dot(S4_z,S1_z)\n",
    "\n",
    "energies, vectors = np.linalg.eig(H)\n",
    "#print(np.sort(energies))\n",
    "\n",
    "x = [1] * len(energies)\n",
    "\n",
    "fig, ax = plt.subplots(figsize=(6, 8))\n",
    "ax.set_xticks([])\n",
    "ax.yaxis.set_minor_locator(mpl.ticker.MaxNLocator(50))\n",
    "ax.scatter(x, energies, c = 'black', s=90000, marker=\"_\", linewidth=2, zorder=3)\n",
    "ax.grid(axis='y')\n",
    "ax.margins(0.1)\n",
    "ax.set_ylabel('E')\n",
    "ax.set_title('4 sites s = 1')\n",
    "\n",
    "x = [1] * len(energies)\n",
    "\n",
    "fig, ax = plt.subplots(figsize=(6, 8))\n",
    "ax.set_xticks([])\n",
    "ax.yaxis.set_minor_locator(mpl.ticker.MaxNLocator(50))\n",
    "ax.scatter(x, energies, c = 'black', s=90000, marker=\"_\", linewidth=2, zorder=3)\n",
    "ax.grid(axis='y')\n",
    "ax.margins(0.1)\n",
    "ax.set_ylabel('E')\n",
    "ax.set_title('ZOOM 4 sites s = 1')\n",
    "ax.set_ylim([-2, 2])"
   ]
  },
  {
   "cell_type": "code",
   "execution_count": 118,
   "metadata": {},
   "outputs": [
    {
     "data": {
      "text/plain": [
       "(-0.1, 0.1)"
      ]
     },
     "execution_count": 118,
     "metadata": {},
     "output_type": "execute_result"
    },
    {
     "data": {
      "image/png": "[encoded data removed]",
      "text/plain": [
       "<Figure size 432x576 with 1 Axes>"
      ]
     },
     "metadata": {
      "needs_background": "light"
     },
     "output_type": "display_data"
    },
    {
     "data": {
      "image/png": "[encoded data removed]",
      "text/plain": [
       "<Figure size 432x576 with 1 Axes>"
      ]
     },
     "metadata": {
      "needs_background": "light"
     },
     "output_type": "display_data"
    }
   ],
   "source": [
    "#HEISENBERG HAMILTONIAN FIVE SITES spin = 1\n",
    "\n",
    "from numpy import kron, dot\n",
    "\n",
    "S_plus = np.sqrt(2) * np.array([[0,1,0],\n",
    "                                [0,0,1],\n",
    "                                [0,0,0]])\n",
    "\n",
    "S_minus = np.sqrt(2) * np.array([[0,0,0],\n",
    "                                [1,0,0],\n",
    "                                [0,1,0]])\n",
    "S_z = np.array([[1,0,0],\n",
    "                [0,0,0],\n",
    "                [0,0,-1]])\n",
    "\n",
    "I = np.array([[1,0,0],\n",
    "                [0,1,0],\n",
    "                [0,0,1]])\n",
    "\n",
    "S1_plus = kron(kron(kron(kron(S_plus,I),I),I),I)\n",
    "S1_minus = kron(kron(kron(kron(S_minus,I),I),I),I)\n",
    "S1_z = kron(kron(kron(kron(S_z,I),I),I),I)\n",
    "\n",
    "S2_plus = kron(kron(kron(kron(I,S_plus),I),I),I)\n",
    "S2_minus = kron(kron(kron(kron(I,S_minus),I),I),I)\n",
    "S2_z = kron(kron(kron(kron(I,S_z),I),I),I)\n",
    "\n",
    "S3_plus = kron(kron(kron(kron(I,I),S_plus),I),I)\n",
    "S3_minus = kron(kron(kron(kron(I,I),S_minus),I),I)\n",
    "S3_z = kron(kron(kron(kron(I,I),S_z),I),I)\n",
    "\n",
    "S4_plus = kron(kron(kron(kron(I,I),I),S_plus),I)\n",
    "S4_minus = kron(kron(kron(kron(I,I),I),S_minus),I)\n",
    "S4_z = kron(kron(kron(kron(I,I),I),S_z),I)\n",
    "\n",
    "S5_plus = kron(kron(kron(kron(I,I),I),I),S_plus)\n",
    "S5_minus = kron(kron(kron(kron(I,I),I),I),S_minus)\n",
    "S5_z = kron(kron(kron(kron(I,I),I),I),S_z)\n",
    "\n",
    "H = 0.5*(dot(S1_plus,S2_minus)+dot(S1_minus,S2_plus)+dot(S2_plus,S3_minus)+dot(S2_minus,S3_plus)\\\n",
    "    +dot(S3_plus,S4_minus)+dot(S3_minus,S4_plus)+dot(S4_plus,S5_minus)+dot(S4_minus,S5_plus)\\\n",
    "        +dot(S5_plus,S1_minus)+dot(S5_minus,S1_plus)) + dot(S1_z,S2_z) + dot(S2_z,S3_z) + dot(S3_z,S4_z) + dot(S4_z,S1_z)+dot(S5_z,S1_z)\n",
    "\n",
    "energies, vectors = np.linalg.eig(H)\n",
    "#print(np.sort(energies))\n",
    "\n",
    "x = [1] * len(energies)\n",
    "\n",
    "fig, ax = plt.subplots(figsize=(6, 8))\n",
    "ax.set_xticks([])\n",
    "ax.yaxis.set_minor_locator(mpl.ticker.MaxNLocator(50))\n",
    "ax.scatter(x, energies, c = 'black', s=90000, marker=\"_\", linewidth=2, zorder=3)\n",
    "ax.grid(axis='y')\n",
    "ax.margins(0.1)\n",
    "ax.set_ylabel('E')\n",
    "ax.set_title('5 sites s = 1')\n",
    "\n",
    "x = [1] * len(energies)\n",
    "\n",
    "fig, ax = plt.subplots(figsize=(6, 8))\n",
    "ax.set_xticks([])\n",
    "ax.yaxis.set_minor_locator(mpl.ticker.MaxNLocator(50))\n",
    "ax.scatter(x, energies, c = 'black', s=90000, marker=\"_\", linewidth=2, zorder=3)\n",
    "ax.grid(axis='y')\n",
    "ax.margins(0.1)\n",
    "ax.set_ylabel('E')\n",
    "ax.set_title('ZOOM 5 sites s = 1')\n",
    "ax.set_ylim([-0.1, 0.1])"
   ]
  },
  {
   "cell_type": "code",
   "execution_count": null,
   "metadata": {},
   "outputs": [],
   "source": [
    "#HEISENBERG HAMILTONIAN SIX SITES spin = 1\n",
    "\n"
   ]
  },
  {
   "cell_type": "code",
   "execution_count": null,
   "metadata": {},
   "outputs": [],
   "source": [
    "#HEISENBERG HAMILTONIAN SEVEN SITES spin = 1"
   ]
  },
  {
   "cell_type": "code",
   "execution_count": null,
   "metadata": {},
   "outputs": [],
   "source": [
    "#HEISENBERG HAMILTONIAN EIGHT SITES spin = 1"
   ]
  },
  {
   "cell_type": "code",
   "execution_count": null,
   "metadata": {},
   "outputs": [],
   "source": [
    "#HEISENBERG HAMILTONIAN NINE SITES spin = 1 ?"
   ]
  },
  {
   "cell_type": "code",
   "execution_count": null,
   "metadata": {},
   "outputs": [],
   "source": [
    "#HEISENBERG HAMILTONIAN TEN SITES spin = 1 ?"
   ]
  },
  {
   "cell_type": "code",
   "execution_count": 109,
   "metadata": {},
   "outputs": [
    {
     "data": {
      "text/plain": [
       "Text(0.5, 1.0, '4 sites s = 1/2')"
      ]
     },
     "execution_count": 109,
     "metadata": {},
     "output_type": "execute_result"
    },
    {
     "data": {
      "image/png": "[encoded data removed]",
      "text/plain": [
       "<Figure size 432x576 with 1 Axes>"
      ]
     },
     "metadata": {
      "needs_background": "light"
     },
     "output_type": "display_data"
    }
   ],
   "source": [
    "#HEISENBERG HAMILTONIAN FOUR SITES spin = 1/2\n",
    "\n",
    "from numpy import kron, dot\n",
    "\n",
    "S_plus = np.array([[0,1],\n",
    "                [0,0]])\n",
    "S_minus = np.array([[0,0],\n",
    "                [1,0]])\n",
    "S_z = np.array([[1,0],\n",
    "                [0,-1]])\n",
    "I = np.array([[1,0],\n",
    "            [0,1]])\n",
    "\n",
    "S1_plus = kron(kron(kron(S_plus,I),I),I)\n",
    "S1_minus = kron(kron(kron(S_minus,I),I),I)\n",
    "S1_z = kron(kron(kron(S_z,I),I),I)\n",
    "\n",
    "S2_plus = kron(kron(kron(I,S_plus),I),I)\n",
    "S2_minus = kron(kron(kron(I,S_minus),I),I)\n",
    "S2_z = kron(kron(kron(I,S_z),I),I)\n",
    "\n",
    "S3_plus = kron(kron(kron(I,I),S_plus),I)\n",
    "S3_minus = kron(kron(kron(I,I),S_minus),I)\n",
    "S3_z = kron(kron(kron(I,I),S_z),I)\n",
    "\n",
    "S4_plus = kron(kron(kron(I,I),I),S_plus)\n",
    "S4_minus = kron(kron(kron(I,I),I),S_minus)\n",
    "S4_z = kron(kron(kron(I,I),I),S_z)\n",
    "\n",
    "H = 0.5*(dot(S1_plus,S2_minus)+dot(S1_minus,S2_plus)+dot(S2_plus,S3_minus)+dot(S2_minus,S3_plus)\\\n",
    "    +dot(S3_plus,S4_minus)+dot(S3_minus,S4_plus)+dot(S4_plus,S1_minus)+dot(S4_minus,S1_plus)) + dot(S1_z,S2_z) + dot(S2_z,S3_z) + dot(S3_z,S4_z) + dot(S4_z,S1_z)\n",
    "\n",
    "energies, vectors = np.linalg.eig(H)\n",
    "#print(np.sort(energies))\n",
    "\n",
    "x = [1] * len(energies)\n",
    "\n",
    "fig, ax = plt.subplots(figsize=(6, 8))\n",
    "ax.set_xticks([])\n",
    "ax.yaxis.set_minor_locator(mpl.ticker.MaxNLocator(50))\n",
    "ax.scatter(x, energies, c = 'black', s=90000, marker=\"_\", linewidth=2, zorder=3)\n",
    "ax.grid(axis='y')\n",
    "ax.margins(0.1)\n",
    "ax.set_ylabel('E')\n",
    "ax.set_title('4 sites s = 1/2')"
   ]
  },
  {
   "cell_type": "code",
   "execution_count": 94,
   "metadata": {},
   "outputs": [],
   "source": [
    "\n"
   ]
  },
  {
   "cell_type": "code",
   "execution_count": 95,
   "metadata": {},
   "outputs": [],
   "source": []
  },
  {
   "cell_type": "code",
   "execution_count": 49,
   "metadata": {},
   "outputs": [],
   "source": [
    "#DRAFT\n",
    "\n",
    "#HEISENBERG HAMILTONIAN FOUR SITES spin = 2\n",
    "\n",
    "from numpy import kron, dot\n",
    "\n",
    "S_plus = np.sqrt(2) * np.array([[0,1,0],\n",
    "                                [0,0,1],\n",
    "                                [0,0,0]])\n",
    "\n",
    "S_minus = np.sqrt(2) * np.array([[0,0,0],\n",
    "                                [1,0,0],\n",
    "                                [0,1,0]])\n",
    "S_z = np.array([[2,0,0,0],\n",
    "                [0,1,0,0],\n",
    "                [0,0,0,0],\n",
    "                [0,0,-1,0],\n",
    "                [0,0,0,-2]])\n",
    "\n",
    "I = np.array([[1,0,0,0],\n",
    "                [0,1,0,0],\n",
    "                [0,0,1,0],\n",
    "                [0,0,0,1]])\n",
    "\n",
    "\n",
    "S1_plus = kron(kron(kron(S_plus,I),I),I)\n",
    "S1_minus = kron(kron(kron(S_minus,I),I),I)\n",
    "S1_z = kron(kron(kron(S_z,I),I),I)\n",
    "\n",
    "S2_plus = kron(kron(kron(I,S_plus),I),I)\n",
    "S2_minus = kron(kron(kron(I,S_minus),I),I)\n",
    "S2_z = kron(kron(kron(I,S_z),I),I)\n",
    "\n",
    "S3_plus = kron(kron(kron(I,I),S_plus),I)\n",
    "S3_minus = kron(kron(kron(I,I),S_minus),I)\n",
    "S3_z = kron(kron(kron(I,I),S_z),I)\n",
    "\n",
    "S4_plus = kron(kron(kron(I,I),I),S_plus)\n",
    "S4_minus = kron(kron(kron(I,I),I),S_minus)\n",
    "S4_z = kron(kron(kron(I,I),I),S_z)\n",
    "\n",
    "H = 0.5*(dot(S1_plus,S2_minus)+dot(S1_minus,S2_plus)+dot(S2_plus,S3_minus)+dot(S2_minus,S3_plus)\\\n",
    "    +dot(S3_plus,S4_minus)+dot(S3_minus,S4_plus)+dot(S4_plus,S1_minus)+dot(S4_minus,S1_plus)) + dot(S1_z,S2_z) + dot(S2_z,S3_z) + dot(S3_z,S4_z) + dot(S4_z,S1_z)"
   ]
  },
  {
   "cell_type": "code",
   "execution_count": 50,
   "metadata": {},
   "outputs": [
    {
     "data": {
      "text/plain": [
       "array([[1, 0, 0, 0],\n",
       "       [0, 1, 0, 0],\n",
       "       [0, 0, 1, 0],\n",
       "       [0, 0, 0, 1]])"
      ]
     },
     "execution_count": 50,
     "metadata": {},
     "output_type": "execute_result"
    }
   ],
   "source": [
    "I"
   ]
  },
  {
   "cell_type": "code",
   "execution_count": null,
   "metadata": {},
   "outputs": [],
   "source": [
    "energies, vectors = np.linalg.eig(H)\n",
    "print(np.sort(energies))"
   ]
  }
 ],
 "metadata": {
  "kernelspec": {
   "display_name": "Python 3.9.12 ('base')",
   "language": "python",
   "name": "python3"
  },
  "language_info": {
   "codemirror_mode": {
    "name": "ipython",
    "version": 3
   },
   "file_extension": ".py",
   "mimetype": "text/x-python",
   "name": "python",
   "nbconvert_exporter": "python",
   "pygments_lexer": "ipython3",
   "version": "3.9.13"
  },
  "orig_nbformat": 4,
  "vscode": {
   "interpreter": {
    "hash": "2aba32fa9814dd74afa6b9e7a27969cc2658cb29bf64be100fdbb87a4e0e2e39"
   }
  }
 },
 "nbformat": 4,
 "nbformat_minor": 2
}
